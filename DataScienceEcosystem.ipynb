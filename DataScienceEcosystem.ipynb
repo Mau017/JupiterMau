{
 "cells": [
  {
   "cell_type": "markdown",
   "id": "8f7b836c-a65d-4e76-8245-4c4563c012e6",
   "metadata": {},
   "source": [
    "# Data Science Tools and Ecosystem"
   ]
  },
  {
   "cell_type": "markdown",
   "id": "2bb342cb-4edd-4d46-bffc-e397af7dc3bd",
   "metadata": {},
   "source": [
    "In this notebook, Data Science Tools and Ecosystem are summarized."
   ]
  },
  {
   "cell_type": "markdown",
   "id": "09735275-9056-430e-9b47-234a68c6f761",
   "metadata": {},
   "source": [
    "**Objectives:**\n",
    "\n",
    "* List of popular languages that Data Sciencistis use\n",
    "* List of Commonly used libraries by Data Scientist\n",
    "* Table of Data Science Tools\n",
    "* Examples of evaluating arithmetic expressions in Python"
   ]
  },
  {
   "cell_type": "markdown",
   "id": "7ea96fb7-b790-4130-9e45-90692be7c5a5",
   "metadata": {},
   "source": [
    "Some of the popular languanges that Data Sciencists use are:\n",
    "\n",
    "1. Python\n",
    "2. JavaScript\n",
    "3. C\n",
    "4. C++\n",
    "5. R"
   ]
  },
  {
   "cell_type": "markdown",
   "id": "df1e29a5-b2ac-4cc0-9d67-b1f5c0bebb4f",
   "metadata": {},
   "source": [
    "Some of the commonly used libraries used by Data Scientists include:\n",
    "\n",
    "1. NumPy\n",
    "2. Scikit-learn\n",
    "3. Pandas\n",
    "4. SciPy\n",
    "5. Keras"
   ]
  },
  {
   "cell_type": "markdown",
   "id": "d49b9586-3c61-4bd8-a517-0d9e559267b8",
   "metadata": {},
   "source": [
    "|(Data Science Tools)|\n",
    "|--------------------|\n",
    "|Apache Spark |\n",
    "|TensorFlow |\n",
    "|Weka |"
   ]
  },
  {
   "cell_type": "markdown",
   "id": "3ef23396-aad9-402a-9e3c-47019b481706",
   "metadata": {},
   "source": [
    "### Below are a few examples of evaluating arithmetic expressions in Python"
   ]
  },
  {
   "cell_type": "code",
   "execution_count": 1,
   "id": "e3dafe22-3ef2-4845-8c07-3a0723fe9c2a",
   "metadata": {},
   "outputs": [
    {
     "data": {
      "text/plain": [
       "17"
      ]
     },
     "execution_count": 1,
     "metadata": {},
     "output_type": "execute_result"
    }
   ],
   "source": [
    "#This is a simple arithmetic expression to multiply then add integers\n",
    "(3*4)+5"
   ]
  },
  {
   "cell_type": "code",
   "execution_count": 2,
   "id": "2ddfbb88-6fee-4b2e-9058-ef374d61bae7",
   "metadata": {},
   "outputs": [
    {
     "data": {
      "text/plain": [
       "3.3333333333333335"
      ]
     },
     "execution_count": 2,
     "metadata": {},
     "output_type": "execute_result"
    }
   ],
   "source": [
    "#This will convert 200 minutes to hours by diving by 60\n",
    "200/60"
   ]
  },
  {
   "cell_type": "markdown",
   "id": "963602c8-95c8-411c-90a3-a094a51d1707",
   "metadata": {},
   "source": [
    "## Author\n",
    "Mauricio Mosqueda Gómez."
   ]
  },
  {
   "cell_type": "code",
   "execution_count": null,
   "id": "343cf16d-e239-487a-85a2-0af89af9b0f4",
   "metadata": {},
   "outputs": [],
   "source": []
  }
 ],
 "metadata": {
  "kernelspec": {
   "display_name": "Python 3 (ipykernel)",
   "language": "python",
   "name": "python3"
  },
  "language_info": {
   "codemirror_mode": {
    "name": "ipython",
    "version": 3
   },
   "file_extension": ".py",
   "mimetype": "text/x-python",
   "name": "python",
   "nbconvert_exporter": "python",
   "pygments_lexer": "ipython3",
   "version": "3.11.9"
  }
 },
 "nbformat": 4,
 "nbformat_minor": 5
}
